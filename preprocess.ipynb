{
 "cells": [
  {
   "cell_type": "markdown",
   "metadata": {},
   "source": [
    "# Phase1\n",
    "1.\tDataset data exploration: List the main finding of the dataset. Be thorough and creative. For example, look at:\n",
    "\n",
    "    a.\tCounts, averages\n",
    "    b.\tDistribution of the number of reviews across products\n",
    "    c.\tDistribution of the number of reviews per product\n",
    "    d.\tDistribution of reviews per user\n",
    "    e.\tReview lengths and outliers\n",
    "    f.\tAnalyze lengths\n",
    "    g.\tCheck for duplicates\n",
    "\n",
    "2.\tText basic pre-processing: \n",
    "\n",
    "    a.\tLabel your data based on the value of “rating of the product” i.e. as follows:\n",
    "\n",
    "        i.\t Ratings 4,5:  Positive \n",
    "        ii.\t Rating    3:  Neutral\n",
    "        iii. Ratings 1,2:  Negative\n",
    "\n",
    "    b.\tChose the appropriate columns for your sentiment analyzer. (Give this some thought) and mention in your report why you chose each column.\n",
    "\n",
    "    c.\tCheck for outliers\n"
   ]
  },
  {
   "cell_type": "code",
   "execution_count": null,
   "metadata": {},
   "outputs": [],
   "source": []
  }
 ],
 "metadata": {
  "language_info": {
   "name": "python"
  }
 },
 "nbformat": 4,
 "nbformat_minor": 2
}
